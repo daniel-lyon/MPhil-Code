{
 "cells": [
  {
   "cell_type": "markdown",
   "metadata": {},
   "source": [
    "# Notebook for testing flux limits\n",
    "\n",
    "### Setup"
   ]
  },
  {
   "cell_type": "code",
   "execution_count": null,
   "metadata": {},
   "outputs": [],
   "source": [
    "import numpy as np\n",
    "import pandas as pd\n",
    "import matplotlib.pyplot as plt\n",
    "from astropy.cosmology import FlatLambdaCDM\n",
    "import astropy.units as u\n",
    "\n",
    "file = pd.read_csv('../DATA/ZFOURGE/CDFS/CDFS_MAIN.csv')\n",
    "df = pd.DataFrame(file) # 30,911 galaxies\n",
    "df = df[df['Use'] == 1] # 13,299 galaxies\n",
    "df = df[df['LIR'] > 0] # 8,486\n",
    "\n",
    "# z_bins = [(0, 1), (1, 2), (2, 3), (3, 4), (4, 5), (5, 6)]\n",
    "# percentiles = [25, 30, 40, 50, 40, 30] # percentiles for each redshift bin\n",
    "\n",
    "# redshift bins\n",
    "z_bins = [(0, 0.3), (0.3, 0.45), (0.45, 0.6), (0.6, 0.8), \n",
    "                 (0.8, 1.0), (1.0, 1.2), (1.2, 1.7), (1.7, 2.0),\n",
    "                 (2.0, 2.5), (2.5, 3.0), (3.0, 4.2), (4.2, 5.0),\n",
    "                 (5.0, 6.0)] \n",
    "\n",
    "# percentiles for each redshift bin\n",
    "percentiles = [25, 25, 25, 25, \n",
    "               30, 30, 30, 30, \n",
    "               40, 40, 60, 45, \n",
    "               30] "
   ]
  },
  {
   "cell_type": "markdown",
   "metadata": {},
   "source": [
    "### Bolometric Luminosity vs Redshift"
   ]
  },
  {
   "cell_type": "code",
   "execution_count": null,
   "metadata": {},
   "outputs": [],
   "source": [
    "z = df['zpk'].values # redshift\n",
    "\n",
    "lum = df['LIR'].copy().values # solar luminosity\n",
    "lum *= 3.828 * 10 ** 26 # solar luminosity -> Watts\n",
    "\n",
    "for z_start, z_end in z_bins:\n",
    "    mask_z = (z >= z_start) & (z < z_end)\n",
    "    plt.scatter(z[mask_z], np.log10(lum[mask_z]), s=1, label=f'{z_start} $\\leq$ z < {z_end}')\n",
    "plt.title('Luminosity vs Redshift')\n",
    "plt.xlabel('Redshift')\n",
    "plt.ylabel('log(Luminosity [W])')\n",
    "plt.legend()\n",
    "plt.show()"
   ]
  },
  {
   "cell_type": "markdown",
   "metadata": {},
   "source": [
    "### Bolometric Flux"
   ]
  },
  {
   "cell_type": "code",
   "execution_count": null,
   "metadata": {},
   "outputs": [],
   "source": [
    "cosmo = FlatLambdaCDM(H0=70, Om0=0.3)\n",
    "d_L = cosmo.luminosity_distance(z).to(u.m).value # m\n",
    "\n",
    "F_bol = lum / (4 * np.pi * d_L ** 2) # W/m^2\n",
    "\n",
    "F_lims = []\n",
    "for (z_start, z_end), per in zip(z_bins, percentiles):\n",
    "    mask_z = (z >= z_start) & (z < z_end)\n",
    "    plt.scatter(z[mask_z], np.log10(F_bol[mask_z]), s=1, label=f'{z_start} $\\leq$ z < {z_end}')\n",
    "    p = np.percentile(F_bol[mask_z], per) # 80% of the data is above this value\n",
    "    plt.hlines(np.log10(p), color='k', linestyle='--', label='Flux limit', xmin=z_start, xmax=z_end)\n",
    "    F_lims.append(p)\n",
    "plt.title('Bolometric Flux vs Redshift')\n",
    "plt.ylabel('log(Flux [$W/m^2$])')\n",
    "plt.xlabel('Redshift')\n",
    "plt.show()"
   ]
  },
  {
   "cell_type": "code",
   "execution_count": null,
   "metadata": {},
   "outputs": [],
   "source": [
    "cosmo = FlatLambdaCDM(H0=70, Om0=0.3)\n",
    "d_L = cosmo.luminosity_distance(z).value # Mpc\n",
    "colours = ['cyan', 'orange', 'lime', 'indianred', 'violet', 'tan', 'cyan', 'orange', 'lime', 'indianred', 'violet', 'tan', 'cyan']\n",
    "\n",
    "for (z_start, z_end), F_lim, c in zip(z_bins, F_lims, colours):\n",
    "    mask_z = (z >= z_start) & (z < z_end)\n",
    "    mask_flux = F_bol > F_lim\n",
    "    plt.scatter(d_L[mask_z & mask_flux], np.log10(lum[mask_z & mask_flux]), s=1, label=f'{z_start} $\\leq$ z < {z_end}')\n",
    "    \n",
    "    dmax = np.sqrt(lum[mask_z & mask_flux] / (4 * np.pi * F_lim)) # sqrt(W / W/m^2) = sqrt(m^2) = m\n",
    "    dmax *= 3.241 * 10 **-23\n",
    "    plt.scatter(dmax, np.log10(lum[mask_z & mask_flux]), s=1, color=c)\n",
    "plt.ylabel('log(Luminosity [W])')\n",
    "plt.xlabel('Luminosity Distance [Mpc]')\n",
    "plt.xlim(-2000, 80000)\n",
    "plt.legend()\n",
    "plt.show()"
   ]
  },
  {
   "cell_type": "code",
   "execution_count": null,
   "metadata": {},
   "outputs": [],
   "source": [
    "Flim = 0.003 # mJy\n",
    "mask_f = df['F24'] > Flim\n",
    "\n",
    "lum_new = df['LIR'].copy().values # solar luminosity\n",
    "lum_new *= 3.828 * 10 ** 26 # solar luminosity -> Watts\n",
    "\n",
    "plt.scatter(d_L[mask_f], np.log10(lum_new[mask_f]), s=1, label='Data')\n",
    "\n",
    "cosmo = FlatLambdaCDM(H0=70, Om0=0.3)\n",
    "d_L = cosmo.luminosity_distance(z).value # Mpc\n",
    "colours = ['cyan', 'orange', 'lime', 'indianred', 'violet', 'tan', 'cyan', 'orange', 'lime', 'indianred', 'violet', 'tan', 'cyan']\n",
    "\n",
    "for (z_start, z_end), F_lim, c in zip(z_bins, F_lims, colours):\n",
    "    mask_z = (z >= z_start) & (z < z_end)\n",
    "    mask_flux = F_bol > F_lim\n",
    "    \n",
    "    dmaxs = np.sqrt(lum[mask_z & mask_flux] / (4 * np.pi * F_lim)) # sqrt(W / W/m^2) = sqrt(m^2) = m\n",
    "    dmaxs *= 3.241 * 10 **-23\n",
    "    \n",
    "    rb_max = cosmo.luminosity_distance(z_end).value\n",
    "    mask_d = dmaxs <= rb_max\n",
    "    \n",
    "    plt.scatter(dmaxs[mask_d], np.log10(lum[mask_z & mask_flux][mask_d]), s=1, color=c, label=f'{z_start} $\\leq$ z < {z_end}')\n",
    "    plt.axvline(cosmo.luminosity_distance(z_end).value, color=c, linestyle='--')\n",
    "    # plt.text(cosmo.luminosity_distance(z_end).value+1e3, max(np.log10(lum)), f'z = {z_end}', color=c)\n",
    "plt.ylabel('log(Luminosity [W])')\n",
    "plt.xlabel('Luminosity Distance [Mpc]')\n",
    "plt.xlim(-2000, 80000)\n",
    "plt.legend()\n",
    "plt.show()"
   ]
  }
 ],
 "metadata": {
  "kernelspec": {
   "display_name": "Python 3",
   "language": "python",
   "name": "python3"
  },
  "language_info": {
   "codemirror_mode": {
    "name": "ipython",
    "version": 3
   },
   "file_extension": ".py",
   "mimetype": "text/x-python",
   "name": "python",
   "nbconvert_exporter": "python",
   "pygments_lexer": "ipython3",
   "version": "3.11.2"
  }
 },
 "nbformat": 4,
 "nbformat_minor": 2
}
