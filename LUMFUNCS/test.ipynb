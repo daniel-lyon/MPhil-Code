{
 "cells": [
  {
   "cell_type": "code",
   "execution_count": 39,
   "metadata": {},
   "outputs": [],
   "source": [
    "import numpy as np\n",
    "import pandas as pd\n",
    "from lumfuncs import LF\n",
    "import astropy.units as u\n",
    "import matplotlib.pyplot as plt\n",
    "from astropy.cosmology import FlatLambdaCDM, z_at_value\n",
    "import warnings\n",
    "warnings.filterwarnings(\"ignore\", category=UserWarning) # ignore warnings\n",
    "\n",
    "cosmo = FlatLambdaCDM(H0=70, Om0=0.3)\n",
    "\n",
    "file = pd.read_csv('../DATA/ZFOURGE/CDFS/CDFS_MAIN.csv')\n",
    "data = pd.DataFrame(file) # 30,911 galaxies\n",
    "data = data[data['Use'] == 1] # 13,299 galaxies\n",
    "data = data[data['FKs'] > 0] # 12,676 galaxies # drop rows if FKs is negative"
   ]
  },
  {
   "cell_type": "markdown",
   "metadata": {},
   "source": [
    "### Zmax calculation"
   ]
  },
  {
   "cell_type": "code",
   "execution_count": 34,
   "metadata": {},
   "outputs": [
    {
     "name": "stdout",
     "output_type": "stream",
     "text": [
      "5745     3.871671\n",
      "5859     2.987377\n",
      "5863     2.471283\n",
      "5879     2.309138\n",
      "5885     1.485214\n",
      "           ...   \n",
      "30860    1.027665\n",
      "30872    2.111396\n",
      "30905    0.871614\n",
      "30907    1.595058\n",
      "30909    2.780971\n",
      "Length: 12676, dtype: float64\n",
      "5745     55.611436\n",
      "5859     55.401202\n",
      "5863     55.244436\n",
      "5879     55.278867\n",
      "5885     54.856590\n",
      "           ...    \n",
      "30860    54.657334\n",
      "30872    55.236592\n",
      "30905    54.465909\n",
      "30907    54.817591\n",
      "30909    55.480804\n",
      "Length: 12676, dtype: float64\n"
     ]
    }
   ],
   "source": [
    "flux = data['FKs'] # uJy\n",
    "flux_limit = 27 # AB mangitude\n",
    "z = data['zpk'] # redshift\n",
    "distance = cosmo.luminosity_distance(z) # Mpc\n",
    "\n",
    "flux = 25 - 2.5 * np.log10(flux) # uJy -> AB magnitude\n",
    "# flux *= 1e-32 # uJy -> W/m^2\n",
    "# flux_limit = 10 ** ((25 - flux_limit) / 5) # AB magnitude -> uJy\n",
    "# flux_limit *= 1e-32 # uJy -> W/m^2\n",
    "distance *= 3.086 * 10 ** 22 # Mpc -> m\n",
    "\n",
    "luminosity = 4 * np.pi * (distance ** 2) * flux / (1 + z) # Watts\n",
    "\n",
    "z_max = ((4 * np.pi * (distance ** 2) * flux_limit) / luminosity) - 1\n",
    "print(z_max)\n",
    "\n",
    "luminosity = np.log10(luminosity) # Watts -> log10(Watts)\n",
    "print(luminosity)"
   ]
  },
  {
   "cell_type": "code",
   "execution_count": 40,
   "metadata": {},
   "outputs": [
    {
     "name": "stdout",
     "output_type": "stream",
     "text": [
      "[124.66184659  92.1736154   71.041281   ...   8.64964378  42.75666914\n",
      "  40.21707112] redshift\n",
      "5745     24.130510\n",
      "5859     23.855232\n",
      "5863     23.616262\n",
      "5879     23.125753\n",
      "5885     22.694179\n",
      "           ...    \n",
      "30860    21.725073\n",
      "30872    22.867522\n",
      "30905    21.609571\n",
      "30907    23.145585\n",
      "30909    23.088350\n",
      "Length: 12676, dtype: float64\n"
     ]
    }
   ],
   "source": [
    "flux = data['FKs'] # uJy\n",
    "flux_limit = 27 # AB mangitude\n",
    "z = data['zpk'] # redshift\n",
    "distance = cosmo.luminosity_distance(z) # Mpc\n",
    "\n",
    "# flux = 25 - 2.5 * np.log10(flux) # uJy -> AB magnitude\n",
    "flux *= 1e-32 # uJy -> W/m^2\n",
    "flux_limit = 10 ** ((25 - flux_limit) / 5) # AB magnitude -> uJy\n",
    "flux_limit *= 1e-32 # uJy -> W/m^2\n",
    "distance *= 3.086 * 10 ** 22 # Mpc -> m\n",
    "\n",
    "luminosity = 4 * np.pi * (distance ** 2) * flux # Watts \n",
    "\n",
    "limit_distance = np.sqrt(luminosity / (4 * np.pi * flux_limit)) # m\n",
    "limit_distance *= 3.086 * 10 ** -22 # m -> Mpc\n",
    "\n",
    "z_max = z_at_value(cosmo.luminosity_distance, limit_distance.values * u.Mpc) # redshift\n",
    "print(z_max)\n",
    "\n",
    "luminosity = np.log10(luminosity) # Watts -> log10(Watts)\n",
    "print(luminosity)"
   ]
  },
  {
   "cell_type": "code",
   "execution_count": 41,
   "metadata": {},
   "outputs": [
    {
     "name": "stdout",
     "output_type": "stream",
     "text": [
      "[124.66184659  92.1736154   71.041281   ...   8.64964378  42.75666914\n",
      "  40.21707112] redshift\n"
     ]
    },
    {
     "data": {
      "text/plain": [
       "Text(0, 0.5, 'Log(Luminosity [W])')"
      ]
     },
     "execution_count": 41,
     "metadata": {},
     "output_type": "execute_result"
    },
    {
     "data": {
      "image/png": "[encoded data removed]",
      "text/plain": [
       "<Figure size 640x480 with 1 Axes>"
      ]
     },
     "metadata": {},
     "output_type": "display_data"
    }
   ],
   "source": [
    "print(z_max)\n",
    "plt.scatter(z_max, luminosity, s=1)\n",
    "plt.xlabel('Redshift')\n",
    "plt.ylabel('Log(Luminosity [W])')"
   ]
  },
  {
   "cell_type": "code",
   "execution_count": null,
   "metadata": {},
   "outputs": [],
   "source": [
    "n_lum_bins = 20 # number of luminosity bins\n",
    "z_bins = [(0, 1), (1, 2), (2, 3), (3, 4), (4, 5), (5, 6)] # redshift bins\n",
    "survey_area = 0.11 # square degrees\n",
    "lf = LF(cosmo, luminosity, n_lum_bins, z, z_max, z_bins, survey_area)\n",
    "\n",
    "lf.counts()\n",
    "\n",
    "data = lf.fit_schechter(func='luminosity', min_count=0, maxfev=1000, show=False)\n",
    "fig, axes = plt.subplots(3, 2, figsize=(15, 15), sharex=True)\n",
    "for ax, d in zip(axes.flatten(), data):\n",
    "    x, y, y_fit, (z_start, z_end) = d\n",
    "    ax.scatter(x, np.log10(y), label=f'{z_start} $\\leq$ z < {z_end}')\n",
    "    ax.plot(x, np.log10(y_fit), label='Schechter fit', color='red', linestyle='--')\n",
    "    ax.set_xlabel('Log(Luminosity [W])', fontsize=12)\n",
    "    ax.set_ylabel('$log(\\Phi) (Mpc^{-3})$', fontsize=12)\n",
    "    ax.set_ylim(-8, -1)\n",
    "    ax.tick_params(axis='both', which='major', labelsize=12)\n",
    "    ax.legend()\n",
    "plt.show()"
   ]
  }
 ],
 "metadata": {
  "kernelspec": {
   "display_name": "Python 3",
   "language": "python",
   "name": "python3"
  },
  "language_info": {
   "codemirror_mode": {
    "name": "ipython",
    "version": 3
   },
   "file_extension": ".py",
   "mimetype": "text/x-python",
   "name": "python",
   "nbconvert_exporter": "python",
   "pygments_lexer": "ipython3",
   "version": "3.11.2"
  }
 },
 "nbformat": 4,
 "nbformat_minor": 2
}
