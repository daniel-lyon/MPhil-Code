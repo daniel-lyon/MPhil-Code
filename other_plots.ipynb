{
 "cells": [
  {
   "cell_type": "code",
   "execution_count": null,
   "metadata": {},
   "outputs": [],
   "source": [
    "max_z_abs_bin = [] # maximum redshift for each absolute magnitude bin\n",
    "max_abs_bin = [] # maximum absolute magnitude for each absolute magnitude bin\n",
    "fig, ax = plt.subplots()\n",
    "\n",
    "# Loop through each absolute magnitude bin\n",
    "for min_mag, max_mag in zip(bins[:-1], bins[1:]):\n",
    "    mask = (M_lim >= min_mag) & (M_lim < max_mag)\n",
    "    \n",
    "    # Mask the data\n",
    "    masked_mlim = M_lim[mask]\n",
    "    masked_z = z[mask]\n",
    "    \n",
    "    # If there are no galaxies in the bin, continue\n",
    "    if len(masked_mlim) == 0:\n",
    "        continue\n",
    "    \n",
    "    plt.scatter(masked_z, masked_mlim, label=f'{max_mag} $\\leq M < {min_mag}$')\n",
    "\n",
    "    # Find the maximum redshift and absolute magnitude in the bin\n",
    "    min_masked_mlim = np.argmin(masked_mlim)\n",
    "    max_z = masked_z.values[min_masked_mlim]\n",
    "    \n",
    "    # Save the maximum redshift and absolute magnitude\n",
    "    max_z_abs_bin.append(max_z)\n",
    "    max_abs_bin.append(min_mag) # minimum is used because negative magnitudes are greater (brighter)\n",
    "\n",
    "# Reverse the lists so they are in ascending order\n",
    "max_z_abs_bin = np.array(max_z_abs_bin)[::-1]\n",
    "max_abs_bin = np.array(max_abs_bin)[::-1]\n",
    "\n",
    "# Show arrays\n",
    "print(max_z_abs_bin)\n",
    "print(max_abs_bin)\n",
    "\n",
    "plt.title('Absolute Magnitude Bins vs Redshift')\n",
    "plt.xlabel('Redshift')\n",
    "plt.ylabel('Absolute Magnitude')\n",
    "plt.xlim(0, 10)\n",
    "handles, labels = ax.get_legend_handles_labels()\n",
    "plt.legend(handles[::-1], labels[::-1], bbox_to_anchor=(1.05, 1.2))\n",
    "plt.show()"
   ]
  },
  {
   "cell_type": "markdown",
   "metadata": {},
   "source": [
    "### Absolute Magnitude Limit vs Maximum Redshift"
   ]
  },
  {
   "cell_type": "code",
   "execution_count": null,
   "metadata": {},
   "outputs": [],
   "source": [
    "for z_min, z_max in redshift_bins:\n",
    "    mask = (z >= z_min) & (z < z_max)\n",
    "    \n",
    "    # Find the maximum distance for the redshift bin\n",
    "    dmax = cosmo.comoving_distance(z_max).value # Mpc\n",
    "    \n",
    "    # Find the maximum distance for each source\n",
    "    dmaxs = 10 * 10 ** ((mag_lim - Mag_abs[mask]) / 5) # pc\n",
    "    dmaxs /= 10 ** 6 # pc -> Mpc\n",
    "    \n",
    "    # Limit the distance to the maximum distance\n",
    "    dmaxs[dmaxs > dmax] = dmax\n",
    "    \n",
    "    # Find the redshift at the maximum distance\n",
    "    z_lim = z_at_value(cosmo.comoving_distance, dmaxs.values * u.Mpc)\n",
    "    \n",
    "    plt.scatter(z_lim, Mag_abs[mask], s=1, label=f'{z_min} $\\leq$ z < {z_max}')\n",
    "\n",
    "plt.title('Absolute Magnitude Limit vs Maximum Redshift')\n",
    "plt.xlabel('Redshift')\n",
    "plt.ylabel('Absolute Magnitude')\n",
    "plt.legend()\n",
    "plt.show()"
   ]
  }
 ],
 "metadata": {
  "language_info": {
   "name": "python"
  }
 },
 "nbformat": 4,
 "nbformat_minor": 2
}
