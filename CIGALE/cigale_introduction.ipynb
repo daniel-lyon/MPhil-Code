{
 "cells": [
  {
   "cell_type": "markdown",
   "id": "838a1412-e02a-4aab-a725-76b5e725deb3",
   "metadata": {},
   "source": [
    "# Visual Introduction to CIGALE\n",
    "\n",
    "This notebook presents the Spectral Energy Distribution (SED) creation in CIGALE.  At first, we create a SED step by step chaining the various modules.  Then we show what information is available in the SED and how CIGALE makes it easy to compute fluxes in different bands.  Finaly, we will use an interactive plot to experiment with the effects fo the various parameters."
   ]
  },
  {
   "cell_type": "code",
   "execution_count": null,
   "id": "2492c7f9-8f15-42e6-be38-41b68225132e",
   "metadata": {},
   "outputs": [],
   "source": [
    "%pylab widget\n",
    "matplotlib.rcParams['figure.figsize'] = [9.,6.]"
   ]
  },
  {
   "cell_type": "code",
   "execution_count": null,
   "id": "1b86c510-4ca6-4964-857e-f27f322f358e",
   "metadata": {},
   "outputs": [],
   "source": [
    "from copy import deepcopy\n",
    "\n",
    "import numpy as np\n",
    "\n",
    "from IPython.display import display\n",
    "from ipywidgets import widgets\n",
    "from matplotlib import pyplot as plt\n",
    "\n",
    "from astropy.table import Table\n",
    "\n",
    "from pcigale import sed\n",
    "from pcigale import sed_modules as modules\n",
    "from pcigale.warehouse import SedWarehouse"
   ]
  },
  {
   "cell_type": "markdown",
   "id": "a5e70ed0-cc7e-4919-8cc7-3427fb52d841",
   "metadata": {},
   "source": [
    "## 1. Creating a SED step by step\n",
    "\n",
    "`SED_PARAMETERS` contains all the modules that are used with their parameters, stored in a dictionary for easier reuse. You can change the values (_for valid ones_) before running the notebook.\n",
    "\n",
    "_Note: as we are processing a SED step by step, the cell must be executed in order and not re-excuted._"
   ]
  },
  {
   "cell_type": "code",
   "execution_count": null,
   "id": "34834e53-7d4b-4511-a4d2-1aa915ea9b1c",
   "metadata": {},
   "outputs": [],
   "source": [
    "SED_PARAMETERS = {\n",
    "    'sfhdelayed': {\n",
    "        'tau_main': 1000.,\n",
    "        'age_main': 8000.,\n",
    "        'tau_burst': 2000.,\n",
    "        'age_burst': 50.,\n",
    "        'f_burst': 0.,\n",
    "        },\n",
    "    'bc03': {\n",
    "        'imf': 0,\n",
    "        'metallicity': 0.02,\n",
    "    },\n",
    "    'nebular': {\n",
    "        'logU': -2.0,\n",
    "        'f_esc': 0.0,\n",
    "        'f_dust': 0.0,\n",
    "        'emission': True,\n",
    "    },\n",
    "    'dustatt_modified_starburst': {\n",
    "        'E_BV_lines': 0.08,\n",
    "        'E_BV_factor': 1,\n",
    "        'uv_bump_wavelength': 217.5,\n",
    "        'uv_bump_width': 35.0,\n",
    "        'uv_bump_amplitude': 0.0,\n",
    "        'powerlaw_slope': 0.0,\n",
    "        'Ext_law_emission_lines': 1,\n",
    "        'Rv': 3.1,\n",
    "    },\n",
    "    'dl2014': {\n",
    "        'qpah': 2.50,\n",
    "        'umin': 1.5,\n",
    "        'alpha': 2.0,\n",
    "        'gamma': 0.02,\n",
    "    },\n",
    "    'redshifting': {\n",
    "        'redshift': 2,\n",
    "    }\n",
    "}"
   ]
  },
  {
   "cell_type": "markdown",
   "id": "027d0f96-d45e-4789-86ed-59874b575301",
   "metadata": {},
   "source": [
    "We start with an empty SED."
   ]
  },
  {
   "cell_type": "code",
   "execution_count": null,
   "id": "c1f51102-bcbc-4899-8f32-83dfc763d156",
   "metadata": {},
   "outputs": [],
   "source": [
    "gal = sed.SED()"
   ]
  },
  {
   "cell_type": "markdown",
   "id": "9919e632-2c65-49f4-859b-731d2e123a5a",
   "metadata": {
    "tags": []
   },
   "source": [
    "### 1.a Star Formation History (SFH)\n",
    "\n",
    "The SFH module is for generating the history of the star formation, _i.e._ the evolution of the Star Formation Rate (SFR) in the time."
   ]
  },
  {
   "cell_type": "code",
   "execution_count": null,
   "id": "5914b02e-0395-4699-a9e2-dc0c605c0f68",
   "metadata": {},
   "outputs": [],
   "source": [
    "mod = modules.get_module('sfhdelayed', **SED_PARAMETERS['sfhdelayed'])\n",
    "mod.process(gal)"
   ]
  },
  {
   "cell_type": "code",
   "execution_count": null,
   "id": "30efd551-8d75-4171-818e-f164d5cb93cd",
   "metadata": {},
   "outputs": [],
   "source": [
    "plt.figure()\n",
    "plt.plot(gal.sfh)\n",
    "plt.xlabel (\"Time [Myr]\")\n",
    "plt.ylabel(\"SFR [Msun/yr]\")\n",
    "plt.suptitle(\"Star Formation History\")\n",
    "plt.tight_layout()\n",
    "_ = plt.show()"
   ]
  },
  {
   "cell_type": "markdown",
   "id": "b52e899b-be24-4e71-9045-cf2d1f89e302",
   "metadata": {},
   "source": [
    "### 1.b Stellar Emission\n",
    "\n",
    "The stellar population module is responsible for the emission of the stars produced during the SFH."
   ]
  },
  {
   "cell_type": "code",
   "execution_count": null,
   "id": "d8e70b7c-a270-42f4-9e28-caea06f2f757",
   "metadata": {},
   "outputs": [],
   "source": [
    "mod = modules.get_module('bc03',**SED_PARAMETERS['bc03'])\n",
    "mod.process(gal)"
   ]
  },
  {
   "cell_type": "code",
   "execution_count": null,
   "id": "b867719c-258b-4747-a3d9-95ed4bbd1ef7",
   "metadata": {},
   "outputs": [],
   "source": [
    "plt.figure()\n",
    "plt.loglog(gal.wavelength_grid, gal.luminosities['stellar.old'], label=\"Old stars\")\n",
    "plt.loglog(gal.wavelength_grid, gal.luminosities['stellar.young'], label=\"Young stars\")\n",
    "plt.loglog(gal.wavelength_grid, gal.luminosity, 'k:', label=\"Total\")\n",
    "plt.ylabel (\"Luminosity density [W/nm]\")\n",
    "plt.xlabel(\"Wavelength [nm]\")\n",
    "plt.legend(loc=0)\n",
    "plt.suptitle(\"Stellar emission\")\n",
    "plt.tight_layout()\n",
    "_ = plt.show()"
   ]
  },
  {
   "cell_type": "markdown",
   "id": "93c4cda8-68b4-4595-9ca2-2118a6ee27b4",
   "metadata": {},
   "source": [
    "### 1.c Nebular Emission\n",
    "\n",
    "The nebular module is responsible for the effets of the nebular clouds that absorbs some light from the stars re-emitting the energy as emission lines plus a nebular continuum."
   ]
  },
  {
   "cell_type": "code",
   "execution_count": null,
   "id": "d50a307e-205e-496d-a902-e5fad1bb7012",
   "metadata": {},
   "outputs": [],
   "source": [
    "mod = modules.get_module('nebular',**SED_PARAMETERS['nebular'])\n",
    "mod.process(gal)"
   ]
  },
  {
   "cell_type": "code",
   "execution_count": null,
   "id": "17099ade-8f5f-4c09-b6c7-8d49e7b8fbf9",
   "metadata": {},
   "outputs": [],
   "source": [
    "plt.figure()\n",
    "plt.semilogx(gal.wavelength_grid, gal.luminosities['nebular.absorption_old'], label=\"Old star nebular absorption\")\n",
    "plt.semilogx(gal.wavelength_grid, gal.luminosities['nebular.absorption_young'], label=\"Young star nebular absorption\")\n",
    "plt.ylabel (\"Luminosity density [W/nm]\")\n",
    "plt.xlabel(\"Wavelength [nm]\")\n",
    "plt.legend(loc=0)\n",
    "plt.suptitle(\"Nebular absorption\")\n",
    "plt.tight_layout()\n",
    "_ = plt.show()"
   ]
  },
  {
   "cell_type": "code",
   "execution_count": null,
   "id": "232f1502-d898-47c4-bfc6-32d0aeb02de3",
   "metadata": {},
   "outputs": [],
   "source": [
    "plt.figure()\n",
    "plt.loglog(gal.wavelength_grid, gal.luminosities['nebular.lines_old'], label=\"Old star lines\")\n",
    "plt.loglog(gal.wavelength_grid, gal.luminosities['nebular.lines_young'], label=\"Young star lines\")\n",
    "plt.loglog(gal.wavelength_grid, gal.luminosities['nebular.continuum_old'], label=\"Old star nebular continuum\")\n",
    "plt.loglog(gal.wavelength_grid, gal.luminosities['nebular.continuum_young'], label=\"Young star nebular continuum\")\n",
    "plt.ylabel (\"Luminosity density [W/nm]\")\n",
    "plt.xlabel(\"Wavelength [nm]\")\n",
    "plt.legend(loc=0)\n",
    "plt.suptitle(\"Nebular emission\")\n",
    "plt.tight_layout()\n",
    "_ = plt.show()"
   ]
  },
  {
   "cell_type": "markdown",
   "id": "153489a7-19b5-4e22-8a6f-fcd988c5ae7d",
   "metadata": {},
   "source": [
    "### 1.d Dust absorption\n",
    "\n",
    "The dust absorption module is responsible for the intra-galactic dust attenuation.  For clarity, we are making two graph, one with the attunation of the stellar components and one for the nebular one."
   ]
  },
  {
   "cell_type": "code",
   "execution_count": null,
   "id": "f44ccc33-d878-4b90-b5a0-3522e3688c1e",
   "metadata": {},
   "outputs": [],
   "source": [
    "mod = modules.get_module('dustatt_modified_starburst',**SED_PARAMETERS['dustatt_modified_starburst'])\n",
    "mod.process(gal)"
   ]
  },
  {
   "cell_type": "code",
   "execution_count": null,
   "id": "48758cca-a46c-4c89-ba6e-504cadf50320",
   "metadata": {},
   "outputs": [],
   "source": [
    "plt.figure()\n",
    "plt.semilogx(gal.wavelength_grid, gal.luminosities['attenuation.stellar.old'], label=\"Old star attenuation\")\n",
    "plt.semilogx(gal.wavelength_grid, gal.luminosities['attenuation.stellar.young'], label=\"Young star attenuation\")\n",
    "plt.ylabel (\"Luminosity density [W/nm]\")\n",
    "plt.xlabel(\"Wavelength [nm]\")\n",
    "plt.legend()\n",
    "plt.suptitle(\"Stellar component extinction\")\n",
    "plt.tight_layout()\n",
    "_ = plt.show()"
   ]
  },
  {
   "cell_type": "code",
   "execution_count": null,
   "id": "6638ba54-bc7f-410d-b91c-83826bea7aea",
   "metadata": {},
   "outputs": [],
   "source": [
    "plt.figure()\n",
    "plt.semilogx(gal.wavelength_grid, gal.luminosities['attenuation.nebular.lines_old'], label=\"Old star line attenuation\")\n",
    "plt.semilogx(gal.wavelength_grid, gal.luminosities['attenuation.nebular.lines_young'], label=\"Young star line attenuation\")\n",
    "plt.semilogx(gal.wavelength_grid, gal.luminosities['attenuation.nebular.continuum_old'], label=\"Old star nebular cont. attenuation\")\n",
    "plt.semilogx(gal.wavelength_grid, gal.luminosities['attenuation.nebular.continuum_young'], label=\"Young star nebular cont. attenuation\")\n",
    "plt.ylabel (\"Luminosity density [W/nm]\")\n",
    "plt.xlabel(\"Wavelength [nm]\")\n",
    "plt.yscale('symlog')\n",
    "plt.legend()\n",
    "plt.suptitle(\"Nebular component extinction\")\n",
    "plt.tight_layout()\n",
    "_ = plt.show()"
   ]
  },
  {
   "cell_type": "markdown",
   "id": "95539a1c-16e1-400b-92cc-400af19a464b",
   "metadata": {},
   "source": [
    "### 1.e IR Re-emission\n",
    "\n",
    "The IR re-emission module is responsible for the re-emission to the same energy that was absorbed (the enery balance) in the infra-red by the dust."
   ]
  },
  {
   "cell_type": "code",
   "execution_count": null,
   "id": "1f13ee0c-3191-4358-9d67-194da7f0ec25",
   "metadata": {},
   "outputs": [],
   "source": [
    "mod = modules.get_module('dl2014',**SED_PARAMETERS['dl2014'])\n",
    "mod.process(gal)"
   ]
  },
  {
   "cell_type": "code",
   "execution_count": null,
   "id": "984b1310-db15-4232-856e-7c817fc0a512",
   "metadata": {},
   "outputs": [],
   "source": [
    "plt.figure()\n",
    "plt.loglog(gal.wavelength_grid, gal.luminosities['dust.Umin_Umin'], label=\"Umin_Umin\")\n",
    "plt.loglog(gal.wavelength_grid, gal.luminosities['dust.Umin_Umax'], label=\"Umin_Umax\")\n",
    "plt.ylabel (\"Luminosity density [W/nm]\")\n",
    "plt.xlabel(\"Wavelength [nm]\")\n",
    "plt.legend()\n",
    "plt.suptitle(\"IR re-emission\")\n",
    "plt.tight_layout()\n",
    "_ = plt.show()"
   ]
  },
  {
   "cell_type": "markdown",
   "id": "c4f185f4-9718-46be-ae9e-ff5b587efc8d",
   "metadata": {},
   "source": [
    "### 1.f Rest-frame spectrum\n",
    "\n",
    "At the end, we have a restframe galaxy with this luminosity spectrum."
   ]
  },
  {
   "cell_type": "code",
   "execution_count": null,
   "id": "ce07c639-c756-4921-801d-76d3cd286179",
   "metadata": {},
   "outputs": [],
   "source": [
    "plt.figure()\n",
    "plt.loglog(gal.wavelength_grid, gal.luminosity, label=\"Restframe luminosity\")\n",
    "plt.ylabel (\"Luminosity density [W/nm]\")\n",
    "plt.xlabel(\"Wavelength [nm]\")\n",
    "plt.suptitle(\"Restframe spectrum\")\n",
    "plt.tight_layout()\n",
    "_ = plt.show()"
   ]
  },
  {
   "cell_type": "markdown",
   "id": "60430dd1-70f8-41fe-8dcc-7a3c2f90a369",
   "metadata": {},
   "source": [
    "### 1.g Redshift and IGM effect\n",
    "\n",
    "The redshifting module is here to redshift the SED and apply the effect of the inter-galactic medium during the travel of the light.  Note that the graphics are in flux and not in luminosity, that's why the redshifted galaxy appears to have a lower emission."
   ]
  },
  {
   "cell_type": "code",
   "execution_count": null,
   "id": "6080357d-f0a2-4282-a2db-6ae2df776588",
   "metadata": {},
   "outputs": [],
   "source": [
    "# We make a copy of the rest-frame galaxy to compare in the plot.\n",
    "gal_restframe = deepcopy(gal)\n",
    "\n",
    "mod = modules.get_module('redshifting',**SED_PARAMETERS['redshifting'])\n",
    "mod.process(gal)"
   ]
  },
  {
   "cell_type": "code",
   "execution_count": null,
   "id": "00e141ba-f1ba-4234-afee-16eb9c37c913",
   "metadata": {},
   "outputs": [],
   "source": [
    "plt.figure()\n",
    "plt.loglog(gal.wavelength_grid, gal.fnu, label=f\"z = {SED_PARAMETERS['redshifting']['redshift']}\")\n",
    "plt.loglog(gal_restframe.wavelength_grid, gal_restframe.fnu, color=\"r\", ls=\":\", label=\"z = 0\")\n",
    "plt.ylabel (\"Flux [Jy]\")\n",
    "plt.xlabel(\"Wavelength [nm]\")\n",
    "plt.legend(loc=0)\n",
    "plt.suptitle(\"Flux comparison at different redshifts\")\n",
    "plt.tight_layout()\n",
    "_ = plt.show()"
   ]
  },
  {
   "cell_type": "markdown",
   "id": "6429e155-5b4f-4a86-9a2c-853f535259a2",
   "metadata": {},
   "source": [
    "## 2 Information available in the SED"
   ]
  },
  {
   "cell_type": "code",
   "execution_count": null,
   "id": "528ee816-a657-4d52-b1a0-5ad220f0e0b3",
   "metadata": {},
   "outputs": [],
   "source": [
    "for key in sorted(gal.info):\n",
    "    print(\"%s: %s\" % (key, gal.info[key]))"
   ]
  },
  {
   "cell_type": "markdown",
   "id": "a74ed508-6b8a-4cb8-86a2-5918052b5c92",
   "metadata": {},
   "source": [
    "## 3 Integration of flux in filters\n",
    "\n",
    "CIGALE has a database of filter band-passes an makes it easy to compute the SED flux in them.\n",
    "\n",
    "_Note: the fluxes are really low because we constructed a galaxy of 1 Solar mass. ;-)_"
   ]
  },
  {
   "cell_type": "code",
   "execution_count": null,
   "id": "fc18b5e6-cfe6-4466-a07b-cea3ef209e1f",
   "metadata": {},
   "outputs": [],
   "source": [
    "from pcigale.data import SimpleDatabase\n",
    "base = SimpleDatabase('filters')\n",
    "\n",
    "f_ = {}\n",
    "filter_list =[\"NUV\", \"UX_B90\", \"BX_B90\", \"V_B90\", \"RJ\", \"z_prime\", \"J\", \"K\", \"IRAC1\", \"IRAC2\", \"IRAC3\", \"IRAC4\", \"MIPS1\"]\n",
    "\n",
    "for name in filter_list:\n",
    "    f_[name] = base.get(name=name)"
   ]
  },
  {
   "cell_type": "code",
   "execution_count": null,
   "id": "696c978d-c6b9-4976-b7fa-e78407dda4b5",
   "metadata": {},
   "outputs": [],
   "source": [
    "fmod = {}\n",
    "\n",
    "for name in filter_list:\n",
    "    fmod[name] = gal.compute_fnu(name)\n",
    "    print(\"{}: {:3.5g} Jy\".format(name, fmod[name]))\n"
   ]
  },
  {
   "cell_type": "markdown",
   "id": "cd05c4b7-105f-4861-a5ce-03c0621a0f69",
   "metadata": {},
   "source": [
    "## 4 Interactive SED\n",
    "\n",
    "This last plot allows you to interact with the module parameters to experiment with their effects on the final spectrum.  The dotted line is the SED we just created while the plain line is the one made with the parameters you changed.  At the beginning, they should be exactly the same.  To start over, re-execute the cell."
   ]
  },
  {
   "cell_type": "code",
   "execution_count": null,
   "id": "d2c2316e-b30c-450d-9155-c05d8df9520d",
   "metadata": {},
   "outputs": [],
   "source": [
    "WAREHOUSE = SedWarehouse()\n",
    "\n",
    "def plot_sed(tau_main, age_main, tau_burst, age_burst, f_burst, metallicity, logU, f_esc, f_dust, E_BV_lines, E_BV_factor,\n",
    "             uv_bump_width, uv_bump_amplitude, powerlaw_slope, Rv, qpah, umin, alpha, gamma, redshift, l_range):\n",
    "    plt.figure(\"Interactive_SED\", figsize=(9, 7))\n",
    "    sed = WAREHOUSE.get_sed(\n",
    "        module_list = ['sfhdelayed', 'bc03', 'nebular', 'dustatt_modified_starburst', 'dl2014', 'redshifting'],\n",
    "        parameter_list= [\n",
    "            {\n",
    "                'tau_main': tau_main,\n",
    "                'age_main': age_main,\n",
    "                'tau_burst': tau_burst,\n",
    "                'age_burst': age_burst,\n",
    "                'f_burst': f_burst,\n",
    "            },{\n",
    "                'imf': 0,\n",
    "                'metallicity': metallicity,\n",
    "            },{\n",
    "                'logU': logU,\n",
    "                'f_esc': f_esc,\n",
    "                'f_dust': f_dust,\n",
    "                'emission': True,\n",
    "            },{\n",
    "                'E_BV_lines': E_BV_lines,\n",
    "                'E_BV_factor': E_BV_factor,\n",
    "                'uv_bump_wavelength': 217.5,\n",
    "                'uv_bump_width': uv_bump_width,\n",
    "                'uv_bump_amplitude': uv_bump_amplitude,\n",
    "                'powerlaw_slope': powerlaw_slope,\n",
    "                'Ext_law_emission_lines': 1,\n",
    "                'Rv': Rv,\n",
    "            },{\n",
    "                'qpah': qpah,\n",
    "                'umin': umin,\n",
    "                'alpha': alpha,\n",
    "                'gamma': gamma,\n",
    "            }, {\n",
    "                'redshift': redshift,\n",
    "            }\n",
    "        ]\n",
    "    )\n",
    "    plt.clf()\n",
    "    plt.grid()\n",
    "    plt.loglog(gal.wavelength_grid, gal.fnu, '--', label=\"Orig SED\")\n",
    "    plt.loglog(sed.wavelength_grid, sed.fnu, label=\"New SED\")\n",
    "    \n",
    "    x_lims = (10**l_range[0], 10**l_range[1])\n",
    "    plt.xlim(x_lims)\n",
    "    # Recompute the y limits\n",
    "    mask_sed = (sed.wavelength_grid >= x_lims[0]) & (sed.wavelength_grid <= x_lims[1])\n",
    "    mask_gal = (gal.wavelength_grid >= x_lims[0]) & (gal.wavelength_grid <= x_lims[1])\n",
    "    y_min = 0.9 * np.min([np.min(sed.fnu[mask_sed]), np.min(gal.fnu[mask_gal])])\n",
    "    if y_min <= 0:\n",
    "        y_min = 1e-40  # log axis\n",
    "    y_max = 1.1 * np.max([np.max(sed.fnu[mask_sed]), np.max(gal.fnu[mask_gal])])\n",
    "    plt.ylim([y_min, y_max])\n",
    "   \n",
    "    plt.ylabel (\"Flux [Jy]\")\n",
    "    plt.xlabel(\"Wavelength [nm]\")\n",
    "    plt.legend(loc=0)\n",
    "    plt.tight_layout()\n",
    "    _ = plt.show()"
   ]
  },
  {
   "cell_type": "code",
   "execution_count": null,
   "id": "03e138a0-694a-4988-be9e-6814bb62ac6a",
   "metadata": {},
   "outputs": [],
   "source": [
    "plt.close(\"Interactive_SED\")  # needed to rerun the cell\n",
    "\n",
    "tau_main = widgets.FloatSlider(value=SED_PARAMETERS['sfhdelayed']['tau_main'], \n",
    "                               min=500, max=8000, step=100, \n",
    "                               description=\"tau_main\", continuous_update=False)\n",
    "age_main = widgets.FloatSlider(value=SED_PARAMETERS['sfhdelayed']['age_main'], \n",
    "                               min=2000, max=10000, step=1000, \n",
    "                               description=\"age_main\", continuous_update=False)\n",
    "tau_burst = widgets.FloatSlider(value=SED_PARAMETERS['sfhdelayed']['tau_burst'], \n",
    "                                min=500, max=40000, step=100, \n",
    "                                description=\"tau_burst\", continuous_update=False)\n",
    "age_burst = widgets.FloatSlider(value=SED_PARAMETERS['sfhdelayed']['age_burst'],\n",
    "                                min=50, max=500, step=50, \n",
    "                                description=\"age_burst\", continuous_update=False)\n",
    "f_burst = widgets.FloatSlider(value=SED_PARAMETERS['sfhdelayed']['f_burst'], \n",
    "                              min=0, max=.9, step=.1, \n",
    "                              description=\"f_burst\", continuous_update=False)\n",
    "\n",
    "metallicity = widgets.Dropdown(value=SED_PARAMETERS['bc03']['metallicity'], \n",
    "                               options=[0.0001, 0.0004, 0.004, 0.008, 0.02, 0.05], \n",
    "                               description=\"metallicity\")\n",
    "\n",
    "logU = widgets.Dropdown(value=SED_PARAMETERS['nebular']['logU'],\n",
    "                        options=[-4.0, -3.9, -3.8, -3.7, -3.6, -3.5, -3.4, -3.3, \n",
    "                                 -3.2, -3.1, -3.0, -2.9, -2.8, -2.7, -2.6, -2.5, \n",
    "                                 -2.4, -2.3, -2.2, -2.1, -2.0, -1.9, -1.8, -1.7,\n",
    "                                 -1.6, -1.5, -1.4, -1.3, -1.2, -1.1, -1.0],\n",
    "                        description=\"logU\")\n",
    "f_esc = widgets.FloatSlider(value=SED_PARAMETERS['nebular']['f_esc'], \n",
    "                            min=0, max=1, step=.1, \n",
    "                            description=\"f_esc\", continuous_update=False)\n",
    "f_dust = widgets.FloatSlider(value=SED_PARAMETERS['nebular']['f_dust'], \n",
    "                             min=0, max=1, step=.1, \n",
    "                             description=\"f_dust\", continuous_update=False)\n",
    "# f_esc + f_dust is at most 1 (the remaining part is emitted as lines)\n",
    "def update_f_esc(*args):\n",
    "    if f_esc.value + f_dust.value > 1:\n",
    "        f_esc.value = 1 - f_dust.value\n",
    "f_dust.observe(update_f_esc, 'value')\n",
    "def update_f_dust(*args):\n",
    "    if f_esc.value + f_dust.value > 1:\n",
    "        f_dust.value = 1 - f_esc.value\n",
    "f_esc.observe(update_f_dust, 'value')\n",
    "\n",
    "E_BV_lines = widgets.FloatSlider(value=SED_PARAMETERS['dustatt_modified_starburst']['E_BV_lines'],\n",
    "                                 min=0, max=1, step=.05,\n",
    "                                 description='E_BV_lines', continuous_update=False)\n",
    "E_BV_factor = widgets.FloatSlider(value=SED_PARAMETERS['dustatt_modified_starburst']['E_BV_factor'],\n",
    "                                 min=0, max=1, step=.1,\n",
    "                                 description='E_BV_factor', continuous_update=False)\n",
    "uv_bump_amplitude = widgets.FloatSlider(value=SED_PARAMETERS['dustatt_modified_starburst']['uv_bump_amplitude'], \n",
    "                                        min=0, max=5, step=.1, \n",
    "                                        description=\"bump_ampl.\", continuous_update=False)\n",
    "uv_bump_width = widgets.FloatSlider(value=SED_PARAMETERS['dustatt_modified_starburst']['uv_bump_width'],\n",
    "                                    min=100, max=500, step=100, \n",
    "                                    description=\"bump_width\", continuous_update=False)\n",
    "\n",
    "powerlaw_slope  = widgets.FloatSlider(value=SED_PARAMETERS['dustatt_modified_starburst']['powerlaw_slope'],\n",
    "                                      min=-1, max=1, step=.1, \n",
    "                                      description=\"slope\", continuous_update=False)\n",
    "Rv = widgets.FloatSlider(value=SED_PARAMETERS['dustatt_modified_starburst']['Rv'],\n",
    "                         min=0, max=5, step=.1, \n",
    "                         description=\"Rv\", continuous_update=False)\n",
    "\n",
    "qpah = widgets.Dropdown(value=SED_PARAMETERS['dl2014']['qpah'],\n",
    "                        options=[0.47, 1.12, 1.77, 2.50, 3.19, 3.90, 4.58, 5.26, 5.95, \n",
    "                                 6.63, 7.32],\n",
    "                        description=\"qpah\")\n",
    "umin = widgets.Dropdown(value=SED_PARAMETERS['dl2014']['umin'],\n",
    "                        options=[0.100, 0.120, 0.150, 0.170, 0.200, 0.250, 0.300, 0.350, \n",
    "                                 0.400, 0.500, 0.600, 0.700, 0.800, 1.000, 1.200, 1.500, \n",
    "                                 1.700, 2.000, 2.500, 3.000, 3.500, 4.000, 5.000, 6.000, \n",
    "                                 7.000, 8.000, 10.00, 12.00, 15.00, 17.00, 20.00, 25.00, \n",
    "                                 30.00, 35.00, 40.00, 50.00],\n",
    "                        description=\"umin\")\n",
    "alpha = widgets.FloatSlider(value=SED_PARAMETERS['dl2014']['alpha'],\n",
    "                            min=1., max=3., step=.5, \n",
    "                            description=\"alpha\", continuous_update=False)\n",
    "gamma = widgets.FloatSlider(value=SED_PARAMETERS['dl2014']['gamma'],\n",
    "                            min=0., max=20., step=1, \n",
    "                            description=\"gamma\", continuous_update=False)\n",
    "\n",
    "redshift = widgets.FloatSlider(value=SED_PARAMETERS['redshifting']['redshift'],\n",
    "                               min=0, max=10, step=.1, \n",
    "                               description=\"redshift\", continuous_update=False)\n",
    "\n",
    "l_range = widgets.FloatRangeSlider(value=(1.5, 6), min=1, max=8, step=.1, continuous_update=False)\n",
    "\n",
    "sliders = widgets.VBox([\n",
    "    widgets.Text(\"Star Formation History\"),\n",
    "    tau_main, age_main, tau_burst, age_burst, f_burst,\n",
    "    widgets.Text(\"BC03 SSP\"),\n",
    "    metallicity, \n",
    "    widgets.Text(\"Nebular\"),\n",
    "    logU, f_esc, f_dust, \n",
    "    widgets.Text(\"Dust Attenuation\"),\n",
    "    E_BV_lines, E_BV_factor, uv_bump_amplitude, uv_bump_width, powerlaw_slope, Rv, \n",
    "    widgets.Text(\"IR emission\"),\n",
    "    qpah, umin, alpha, gamma, \n",
    "    widgets.Text(\"Redshift\"),\n",
    "    redshift, \n",
    "    widgets.Text(\"Lambda range (log)\"),\n",
    "    l_range\n",
    "])\n",
    "\n",
    "figure = widgets.interactive_output(\n",
    "    plot_sed,\n",
    "    {\n",
    "        'tau_main': tau_main,\n",
    "        'age_main': age_main,\n",
    "        'tau_burst': tau_burst,\n",
    "        'age_burst': age_burst,\n",
    "        'f_burst': f_burst,\n",
    "        'metallicity': metallicity,\n",
    "        'logU': logU,\n",
    "        'f_esc': f_esc,\n",
    "        'f_dust': f_dust,\n",
    "        'E_BV_lines': E_BV_lines,\n",
    "        'E_BV_factor': E_BV_factor,\n",
    "        'uv_bump_amplitude': uv_bump_amplitude,\n",
    "        'uv_bump_width': uv_bump_width,\n",
    "        'powerlaw_slope': powerlaw_slope,\n",
    "        'Rv': Rv,\n",
    "        'qpah': qpah,\n",
    "        'umin': umin,\n",
    "        'alpha': alpha,\n",
    "        'gamma': gamma,\n",
    "        'redshift': redshift,\n",
    "        'l_range': l_range\n",
    "    }\n",
    ")\n",
    "\n",
    "widgets.HBox([sliders, figure])"
   ]
  },
  {
   "cell_type": "code",
   "execution_count": null,
   "id": "9634452f-fe0c-4e30-8a2e-c13a91aeb84f",
   "metadata": {},
   "outputs": [],
   "source": []
  }
 ],
 "metadata": {
  "kernelspec": {
   "display_name": "Python 3 (ipykernel)",
   "language": "python",
   "name": "python3"
  },
  "language_info": {
   "codemirror_mode": {
    "name": "ipython",
    "version": 3
   },
   "file_extension": ".py",
   "mimetype": "text/x-python",
   "name": "python",
   "nbconvert_exporter": "python",
   "pygments_lexer": "ipython3",
   "version": "3.10.7"
  }
 },
 "nbformat": 4,
 "nbformat_minor": 5
}
