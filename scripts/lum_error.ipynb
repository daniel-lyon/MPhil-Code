{
 "cells": [
  {
   "cell_type": "code",
   "execution_count": 173,
   "metadata": {},
   "outputs": [],
   "source": [
    "import numpy as np\n",
    "import pandas as pd\n",
    "from astropy import units as u\n",
    "import matplotlib.pyplot as plt\n",
    "from astropy.cosmology import FlatLambdaCDM\n",
    "\n",
    "# Load the data\n",
    "# df = pd.read_csv('../DATA/ZFOURGE/CDFS/CDFS_MAIN7.csv', index_col=['Seq'])\n",
    "# df = pd.read_csv('../DATA/ZFOURGE/COSMOS/COSMOS_MAIN7.csv', index_col=['Seq'])\n",
    "df = pd.read_csv('../DATA/ZFOURGE/UDS/UDS_MAIN7.csv', index_col=['Seq'])\n",
    "# df = df[(df['Use'] == 1) & (df['LIR'] > 0)]\n",
    "\n",
    "# Redshift bins\n",
    "redshift_bins = [(0.00, 0.30), (0.30, 0.45), (0.45, 0.60),\n",
    "                 (0.60, 0.80), (0.80, 1.00), (1.00, 1.20),\n",
    "                 (1.20, 1.70), (1.70, 2.00), (2.00, 2.50),\n",
    "                 (2.50, 3.00), (3.00, 4.20), (4.20, 6.00)]\n",
    "\n",
    "# Redshift error per redshift bin\n",
    "redshift_bin_error = [0.027, 0.032, 0.036, \n",
    "                      0.030, 0.039, 0.042, \n",
    "                      0.061, 0.070, 0.087, \n",
    "                      0.106, 0.097, 0.123]\n",
    "\n",
    "# Luminosity error per redshift bin\n",
    "luminosity_perc_bin_error = [18.14, 23.45, 29.13, \n",
    "                             21.35, 32.03, 19.88, \n",
    "                             25.21, 18.88, 20.48, \n",
    "                             26.84, 18.33, 20.47] # percentage"
   ]
  },
  {
   "cell_type": "code",
   "execution_count": 174,
   "metadata": {},
   "outputs": [
    {
     "name": "stderr",
     "output_type": "stream",
     "text": [
      "C:\\Users\\n10480129\\AppData\\Local\\Packages\\PythonSoftwareFoundation.Python.3.11_qbz5n2kfra8p0\\LocalCache\\local-packages\\Python311\\site-packages\\astropy\\cosmology\\flrw\\lambdacdm.py:404: RuntimeWarning: invalid value encountered in sqrt\n",
      "  return 2 * np.sqrt(x) * hyp2f1(1.0 / 6, 1.0 / 2, 7.0 / 6, -(x**3))\n"
     ]
    }
   ],
   "source": [
    "# Luminosity\n",
    "luminosity = df['LIR'].copy() # solar luminosities\n",
    "luminosity *= 3.828 * 10 ** 26 # solar luminosity -> Watts\n",
    "\n",
    "# Luminosity distance\n",
    "z = df['zpk'].values # redshift\n",
    "cosmo = FlatLambdaCDM(H0=70, Om0=0.3) # cosmology\n",
    "d_L = cosmo.luminosity_distance(z).to(u.m).value # meters\n",
    "\n",
    "# Bolometric flux\n",
    "F_bol = luminosity / (4 * np.pi * (d_L ** 2)) # Watts / m^2"
   ]
  },
  {
   "cell_type": "code",
   "execution_count": 175,
   "metadata": {},
   "outputs": [],
   "source": [
    "all_L_up = []\n",
    "all_L_down = []\n",
    "all_indexs = []\n",
    "\n",
    "# Calculate the luminosity errors\n",
    "for (z_start, z_end), z_err, l_err in zip(redshift_bins, redshift_bin_error, luminosity_perc_bin_error):\n",
    "    mask_z = (z >= z_start) & (z < z_end)\n",
    "            \n",
    "    # Perturb the redshift\n",
    "    z_up = z[mask_z] + z_err\n",
    "    z_down = z[mask_z] - z_err\n",
    "    \n",
    "    # Recalculate luminosity distance\n",
    "    d_L_up = cosmo.luminosity_distance(z_up).to(u.m).value\n",
    "    d_L_down = cosmo.luminosity_distance(z_down).to(u.m).value\n",
    "    \n",
    "    # Luminosity from redshift\n",
    "    L_up = 4 * np.pi * (d_L_up ** 2) * F_bol[mask_z] * (2.612 * 10 ** -27) # Solar luminosities\n",
    "    L_down = 4 * np.pi * (d_L_down ** 2) * F_bol[mask_z] * (2.612 * 10 ** -27) # Solar luminosities\n",
    "    \n",
    "    # Luminosity from error\n",
    "    L_up *= (1+l_err/100)\n",
    "    L_down *= (1-l_err/100)\n",
    "    \n",
    "    # Append to list\n",
    "    all_L_up.append(L_up)\n",
    "    all_L_down.append(L_down)\n",
    "    all_indexs.append(L_up.index)"
   ]
  },
  {
   "cell_type": "code",
   "execution_count": 176,
   "metadata": {},
   "outputs": [],
   "source": [
    "new_df = pd.DataFrame({\n",
    "    'Seq': np.concatenate(all_indexs),\n",
    "    'l_down': np.concatenate(all_L_down),\n",
    "    'l_up': np.concatenate(all_L_up)\n",
    "})\n",
    "\n",
    "# Save to csv\n",
    "new_df.sort_values(by='Seq', inplace=True)\n",
    "new_df.to_csv('lum_error.csv', index=False, columns=['Seq', 'l_down', 'l_up'])"
   ]
  },
  {
   "cell_type": "code",
   "execution_count": null,
   "metadata": {},
   "outputs": [],
   "source": [
    "colours = plt.cm.gist_rainbow(np.linspace(0,1,len(redshift_bins)))\n",
    "\n",
    "for i, ((z_start, z_end), L_up, L_down, c, z_err) in enumerate(zip(redshift_bins, all_L_up, all_L_down, colours, redshift_bin_error)):\n",
    "    mask_z = (z >= z_start) & (z < z_end)\n",
    "    x = z[mask_z]\n",
    "    y = np.log10(luminosity[mask_z] / (3.828 * 10 ** 26))\n",
    "    \n",
    "    if i == 1:\n",
    "        plt.errorbar(x, y, yerr=[y - np.log10(L_down), np.log10(L_up) - y], fmt='o', color=c, capsize=4)\n",
    "\n",
    "plt.xlabel('Redshift')\n",
    "plt.ylabel('$\\log(L_{IR})$ [$L_{\\odot}$]')\n",
    "plt.show()"
   ]
  }
 ],
 "metadata": {
  "kernelspec": {
   "display_name": "Python 3",
   "language": "python",
   "name": "python3"
  },
  "language_info": {
   "codemirror_mode": {
    "name": "ipython",
    "version": 3
   },
   "file_extension": ".py",
   "mimetype": "text/x-python",
   "name": "python",
   "nbconvert_exporter": "python",
   "pygments_lexer": "ipython3",
   "version": "3.11.9"
  }
 },
 "nbformat": 4,
 "nbformat_minor": 2
}
