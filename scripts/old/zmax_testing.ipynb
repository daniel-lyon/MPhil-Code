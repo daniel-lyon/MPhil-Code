{
 "cells": [
  {
   "cell_type": "code",
   "execution_count": null,
   "metadata": {},
   "outputs": [],
   "source": [
    "import pandas as pd\n",
    "import numpy as np\n",
    "import matplotlib.pyplot as plt\n",
    "from astropy.cosmology import FlatLambdaCDM\n",
    "\n",
    "survey_area = 0.11 # square degrees zfourge\n",
    "cosmo = FlatLambdaCDM(H0=70, Om0=0.3)\n",
    "\n",
    "file = pd.read_csv('../DATA/ZFOURGE/CDFS/CDFS_MAIN.csv')\n",
    "data = pd.DataFrame(file)\n",
    "data = data[data['Use'] == 1]\n",
    "\n",
    "z = data['zpk']\n",
    "mag_ab = 25 - 2.5*np.log10(data['FKs'])\n",
    "\n",
    "plt.scatter(z, mag_ab, s=1)\n",
    "plt.xlabel('Redshift')\n",
    "plt.ylabel('Ks-band flux')\n",
    "plt.show()"
   ]
  },
  {
   "cell_type": "code",
   "execution_count": null,
   "metadata": {},
   "outputs": [],
   "source": [
    "x = np.array([0,0.5,1,1.5,2,2.5,3,3.5,4,4.5,5])\n",
    "y = np.array([16.5,17.6,18.9,20,21,21.5,22,22.5,23,23.5,24])\n",
    "\n",
    "from scipy.optimize import curve_fit\n",
    "\n",
    "def func(x, a, b, c, d):\n",
    "    y = a * np.log10(x/d + b) + c \n",
    "    return y\n",
    "\n",
    "p0 = [7.8,2,13.7,0.3]\n",
    "popt, pcov = curve_fit(func, x, y, p0=p0)\n",
    "print(popt)\n",
    "\n",
    "plt.scatter(z, mag_ab, s=1, label='Data points')\n",
    "plt.scatter(x, y, color='green', label='Model points')\n",
    "plt.plot(x, func(x, *popt), color='red', label='Max z')\n",
    "plt.plot(np.linspace(0,8,100), func(np.linspace(0,8,100), *popt), color='red')\n",
    "plt.xlabel('Redshift')\n",
    "plt.ylabel('Ks-band flux')\n",
    "plt.xlim(0,8)\n",
    "plt.axhline(y=27, linestyle='--', color='black', label='Limiting magnitude')\n",
    "plt.legend()\n",
    "plt.show()"
   ]
  },
  {
   "cell_type": "code",
   "execution_count": null,
   "metadata": {},
   "outputs": [],
   "source": [
    "z_max = 0.6 * ((10 ** ((mag_ab - 11.4) / 12.06)) - 2.6) # maximum redshift\n",
    "\n",
    "mask_27 = mag_ab < 27\n",
    "\n",
    "plt.scatter(z_max[mask_27], mag_ab[mask_27], s=1, label='$z_{max}$ Data points')\n",
    "plt.legend()\n",
    "plt.xlabel('redshift')\n",
    "plt.ylabel('Ks-band flux')\n",
    "# plt.xlim(0,8)\n",
    "plt.legend()\n",
    "plt.show()"
   ]
  },
  {
   "cell_type": "code",
   "execution_count": null,
   "metadata": {},
   "outputs": [],
   "source": [
    "# plot the number of galaxies across redshift\n",
    "z_bins = np.linspace(0, 8, 33)\n",
    "print(z_bins)\n",
    "\n",
    "plt.hist(z, bins=z_bins, histtype='step', color='black', label='z')\n",
    "plt.hist(z_max, bins=z_bins, histtype='step', color='red', label='z_max')\n",
    "plt.ylabel('Number of galaxies')\n",
    "plt.xlabel('Redshift')\n",
    "plt.legend()\n",
    "plt.show()"
   ]
  },
  {
   "cell_type": "code",
   "execution_count": null,
   "metadata": {},
   "outputs": [],
   "source": [
    "import numpy as np\n",
    "import pandas as pd\n",
    "import matplotlib.pyplot as plt\n",
    "from astropy.cosmology import FlatLambdaCDM\n",
    "cosmo = FlatLambdaCDM(H0=70, Om0=0.3)\n",
    "\n",
    "file = pd.read_csv('../DATA/ZFOURGE/CDFS/CDFS_MAIN.csv')\n",
    "data = pd.DataFrame(file)\n",
    "data = data[data['Use'] == 1]\n",
    "\n",
    "z = data['zpk']\n",
    "lum = data['FKs']\n",
    "dists = cosmo.luminosity_distance(z) * 10 ** 6\n",
    "\n",
    "mag_ab = 25 - 2.5*np.log10(lum) # AB apparent magnitude\n",
    "mag_abs = mag_ab - 5 * np.log10(dists / 10) # absolute magnitude\n",
    "\n",
    "plt.scatter(z, mag_abs, s=1, label='Data points')\n",
    "plt.xlabel('Redshift')\n",
    "plt.ylabel('Ks-band absolute magnitude')\n",
    "plt.gca().invert_yaxis()\n",
    "plt.margins(x=0)\n",
    "# plt.axhline(y=-25, linestyle='--', color='black', label='Limiting magnitude')\n",
    "plt.legend()\n",
    "plt.show()"
   ]
  },
  {
   "cell_type": "code",
   "execution_count": 12,
   "metadata": {},
   "outputs": [
    {
     "data": {
      "text/plain": [
       "<matplotlib.legend.Legend at 0x22f5dc35e90>"
      ]
     },
     "execution_count": 12,
     "metadata": {},
     "output_type": "execute_result"
    },
    {
     "data": {
      "image/png": "[encoded data removed]",
      "text/plain": [
       "<Figure size 640x480 with 1 Axes>"
      ]
     },
     "metadata": {},
     "output_type": "display_data"
    }
   ],
   "source": [
    "import numpy as np\n",
    "import pandas as pd\n",
    "import matplotlib.pyplot as plt\n",
    "from astropy.cosmology import FlatLambdaCDM\n",
    "\n",
    "cosmo = FlatLambdaCDM(H0=70, Om0=0.3)\n",
    "\n",
    "file = pd.read_csv('../DATA/ZFOURGE/CDFS/CDFS_MAIN.csv')\n",
    "data = pd.DataFrame(file) # 30,911 galaxies\n",
    "data = data[data['Use'] == 1] # 13,299 galaxies\n",
    "data = data[data['FKs'] > 0] # 12,676 galaxies # drop rows if FKs is negative\n",
    "\n",
    "def fluxtolum(z, fl):\n",
    "    \"\"\"Converts flux density [uJy] to  luminosity [erg/s]\"\"\"\n",
    "    # print ' fl is assumed to be in uJy'\n",
    "    ld = cosmo.luminosity_distance(z)  # ld[Mpc]\n",
    "    ld *= (3.086 * 10 ** 22)  # ld[m]\n",
    "    flsi = fl * 1e-32  # [W/m^2/Hz]\n",
    "    lum = (4 * np.pi * ld ** 2) * flsi / (1 + z)  # W\n",
    "    return lum\n",
    "\n",
    "\n",
    "\n",
    "z = data['zpk']\n",
    "flux = data['FKs'] # Units? uJy or AB magnitude?\n",
    "\n",
    "# flux = 10 ** ((25 - flux) / 2.5)  # AB magnitude -> uJy or Jy?\n",
    "# flux = flux * 10 ** 6 # Jy -> uJy\n",
    "\n",
    "lum = fluxtolum(z, flux) # luminosity [W]\n",
    "lum = np.log10(lum)\n",
    "\n",
    "plt.scatter(z, lum, s=1, label='Galaxy Data points')\n",
    "plt.xlabel('Redshift')\n",
    "plt.ylabel('Log luminosity [W]')\n",
    "plt.axhline(y=np.log10(3.83*10**26), linestyle='--', color='black', label='Luminosity of the Sun')\n",
    "plt.axhline(y=np.log10(2.6*10**37), linestyle='--', color='red', label='Luminosity of the MW')\n",
    "plt.ylim(0, 50)\n",
    "plt.legend()"
   ]
  }
 ],
 "metadata": {
  "kernelspec": {
   "display_name": "Python 3",
   "language": "python",
   "name": "python3"
  },
  "language_info": {
   "codemirror_mode": {
    "name": "ipython",
    "version": 3
   },
   "file_extension": ".py",
   "mimetype": "text/x-python",
   "name": "python",
   "nbconvert_exporter": "python",
   "pygments_lexer": "ipython3",
   "version": "3.11.2"
  }
 },
 "nbformat": 4,
 "nbformat_minor": 2
}
